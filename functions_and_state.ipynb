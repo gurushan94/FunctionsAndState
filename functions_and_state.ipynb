{
 "cells": [
  {
   "cell_type": "markdown",
   "metadata": {},
   "source": [
    "# Functions, State, and Decorators"
   ]
  },
  {
   "cell_type": "markdown",
   "metadata": {
    "colab_type": "text",
    "id": "XzUQ1Ud39PFf"
   },
   "source": [
    "\n",
    "A function is a set of statements that take inputs, do some specific computation and produces output. \n",
    "\n",
    "- Functions can be built-in, imported or user defined\n",
    "- A function can be called from other functions\n",
    "- Can return data\n",
    "\n",
    "You have already used functions. Some of them belong to objects of specific types, such as `dict_var.get`, and are called **methods**, while some of them have been built-in to the python system, such as `print`. Some other built-ins you have seen are `list` and `dict`, and these are **constructor** functions that create objects of given types.\n",
    "\n",
    "Here is another example of a built-in function"
   ]
  },
  {
   "cell_type": "code",
   "execution_count": 1,
   "metadata": {
    "colab": {},
    "colab_type": "code",
    "id": "jpsMeACR9dpx"
   },
   "outputs": [
    {
     "data": {
      "text/plain": [
       "15"
      ]
     },
     "execution_count": 1,
     "metadata": {},
     "output_type": "execute_result"
    }
   ],
   "source": [
    "#Built-in functions\n",
    "\n",
    "var1 = -15\n",
    "abs(var1)"
   ]
  },
  {
   "cell_type": "markdown",
   "metadata": {
    "colab_type": "text",
    "id": "8aXJYao_5gFW"
   },
   "source": [
    "## Defining your own functions\n",
    "\n",
    "- You can take a number of arguments as input with varying data types. \n",
    "- The arguemnts can optionally have default values which are used in case of no values passed to the function."
   ]
  },
  {
   "cell_type": "code",
   "execution_count": 4,
   "metadata": {
    "colab": {},
    "colab_type": "code",
    "id": "OK4WYT7f9awE"
   },
   "outputs": [
    {
     "name": "stdout",
     "output_type": "stream",
     "text": [
      "16\n"
     ]
    }
   ],
   "source": [
    "# User-defined function with one argument\n",
    "\n",
    "def function_name1(var1):\n",
    "    var2 = 10\n",
    "    x = var1 + var2\n",
    "    return x\n",
    "\n",
    "var1 = 6\n",
    "var2 = function_name1(var1)\n",
    "print (var2)"
   ]
  },
  {
   "cell_type": "code",
   "execution_count": 5,
   "metadata": {
    "colab": {},
    "colab_type": "code",
    "id": "SsPmY2f26rj7"
   },
   "outputs": [
    {
     "name": "stdout",
     "output_type": "stream",
     "text": [
      "This is the list that has been returned  [7, 8, 9, 10]\n"
     ]
    }
   ],
   "source": [
    "#User defined function with 2 arguments, where the second one is a list with default values.\n",
    "#A function can also \n",
    "\n",
    "def function_name2(var2, l1=[1,2,3,4]):\n",
    "    l2 = []\n",
    "    for i in l1:\n",
    "        l2.append(var2+i)\n",
    "    return l2\n",
    "\n",
    "var2 = 6\n",
    "l = function_name2(var2)\n",
    "print (\"This is the list that has been returned \", l)"
   ]
  },
  {
   "cell_type": "code",
   "execution_count": 6,
   "metadata": {},
   "outputs": [
    {
     "data": {
      "text/plain": [
       "[6, 6, 6, 6]"
      ]
     },
     "execution_count": 6,
     "metadata": {},
     "output_type": "execute_result"
    }
   ],
   "source": [
    "function_name2(var2, [0,0,0,0])"
   ]
  },
  {
   "cell_type": "code",
   "execution_count": 7,
   "metadata": {},
   "outputs": [
    {
     "data": {
      "text/plain": [
       "[6, 6, 6, 6]"
      ]
     },
     "execution_count": 7,
     "metadata": {},
     "output_type": "execute_result"
    }
   ],
   "source": [
    "function_name2(var2, l1=[0,0,0,0])"
   ]
  },
  {
   "cell_type": "markdown",
   "metadata": {},
   "source": [
    "Functions may also be defined using the so-called **lambda** or anonymous function, in which functions are then assigned to variables:"
   ]
  },
  {
   "cell_type": "code",
   "execution_count": 9,
   "metadata": {},
   "outputs": [],
   "source": [
    "square = lambda x: x*x\n",
    "affine = lambda a,b,x: a+b*x"
   ]
  },
  {
   "cell_type": "markdown",
   "metadata": {},
   "source": [
    "These are particularly useful for math where most functions are algebraic 1-liners"
   ]
  },
  {
   "cell_type": "code",
   "execution_count": 10,
   "metadata": {},
   "outputs": [
    {
     "data": {
      "text/plain": [
       "25"
      ]
     },
     "execution_count": 10,
     "metadata": {},
     "output_type": "execute_result"
    }
   ],
   "source": [
    "square(5)"
   ]
  },
  {
   "cell_type": "code",
   "execution_count": 11,
   "metadata": {},
   "outputs": [
    {
     "data": {
      "text/plain": [
       "11"
      ]
     },
     "execution_count": 11,
     "metadata": {},
     "output_type": "execute_result"
    }
   ],
   "source": [
    "affine(1,2,5)"
   ]
  },
  {
   "cell_type": "markdown",
   "metadata": {
    "colab_type": "text",
    "id": "J3a7HA35w655"
   },
   "source": [
    "## The scope of variables in functions\n",
    "\n",
    "- Scope of a variable is the portion of a program where the variable is recognized. Parameters and variables defined inside a function is not visible from outside. Hence, they have a local scope.\n",
    "\n",
    "- Lifetime of a variable is the period throughout which the variable exits in the memory. The lifetime of variables inside a function is as long as the function executes.\n",
    "\n",
    "- They are destroyed once we return from the function. Hence, a function does not remember the value of a variable from its previous calls.\n",
    "\n",
    "The scope of this jupyter notebook, or in a python file, is the **global scope**. The scope defined inside of a function definition is the **local** scope.\n",
    "\n",
    "Here is an example to illustrate the scope of a variable inside a function."
   ]
  },
  {
   "cell_type": "code",
   "execution_count": 8,
   "metadata": {
    "colab": {},
    "colab_type": "code",
    "id": "_VY5wunTxNxY"
   },
   "outputs": [
    {
     "name": "stdout",
     "output_type": "stream",
     "text": [
      "Value inside function: 10\n",
      "Value outside function: 20\n"
     ]
    }
   ],
   "source": [
    "def my_func():\n",
    "    x = 10\n",
    "    print(\"Value inside function:\",x)\n",
    "\n",
    "x = 20\n",
    "my_func()\n",
    "print(\"Value outside function:\",x)"
   ]
  },
  {
   "cell_type": "markdown",
   "metadata": {},
   "source": [
    "In this way, a variable defined locally can shadow a global. Here the value `x` inside `my_func`comes from the local definition (10), not the global one (20)"
   ]
  },
  {
   "cell_type": "markdown",
   "metadata": {},
   "source": [
    "## Functions are objects\n",
    "\n",
    "Often you will hear it said that *functions are first class objects*. This means that functions can act as objects, and thus be represented as variables. For example:"
   ]
  },
  {
   "cell_type": "code",
   "execution_count": 12,
   "metadata": {},
   "outputs": [],
   "source": [
    "square = lambda x: x*x"
   ]
  },
  {
   "cell_type": "markdown",
   "metadata": {},
   "source": [
    "The further meaning of this is that you can return functions from functions just as you return variables, and pass functions into functions, just as you would pass variables. This means that you can achieve very general functionality easily, for examplethe `map` in map-reduce frameworks"
   ]
  },
  {
   "cell_type": "code",
   "execution_count": 13,
   "metadata": {},
   "outputs": [
    {
     "data": {
      "text/plain": [
       "[0, 1, 4, 9, 16]"
      ]
     },
     "execution_count": 13,
     "metadata": {},
     "output_type": "execute_result"
    }
   ],
   "source": [
    "def mapit(listy, func):\n",
    "    return [func(e) for e in listy]\n",
    "mapit(range(5), square)"
   ]
  },
  {
   "cell_type": "markdown",
   "metadata": {},
   "source": [
    "But python goes further! You can define functions inside of functions and return your defined functions..this is the other side of the coin of taking functions of arguments..you can return them as well. This further expands the menu of things you can do. For example:"
   ]
  },
  {
   "cell_type": "code",
   "execution_count": 14,
   "metadata": {},
   "outputs": [],
   "source": [
    "def soa(f): # sum anything\n",
    "    def h(x, y):\n",
    "        return f(x) + f(y)\n",
    "    return h"
   ]
  },
  {
   "cell_type": "markdown",
   "metadata": {},
   "source": [
    "Gere we are writung a function `soa` that takes a function `f` as an argument, and returns a function `h`, which when executed takes two imputs, puss them through `f`, and then sums them. So:"
   ]
  },
  {
   "cell_type": "code",
   "execution_count": 16,
   "metadata": {},
   "outputs": [
    {
     "data": {
      "text/plain": [
       "function"
      ]
     },
     "execution_count": 16,
     "metadata": {},
     "output_type": "execute_result"
    }
   ],
   "source": [
    "sum_of_squares = soa(square)\n",
    "type(sum_of_squares)"
   ]
  },
  {
   "cell_type": "code",
   "execution_count": 17,
   "metadata": {},
   "outputs": [
    {
     "data": {
      "text/plain": [
       "25"
      ]
     },
     "execution_count": 17,
     "metadata": {},
     "output_type": "execute_result"
    }
   ],
   "source": [
    "sum_of_squares(3,4)"
   ]
  },
  {
   "cell_type": "markdown",
   "metadata": {},
   "source": [
    "## Capturing state and creating function decorators\n",
    "\n",
    "One of the key things enabled by this functionality is the capturing of state."
   ]
  },
  {
   "cell_type": "code",
   "execution_count": 18,
   "metadata": {},
   "outputs": [
    {
     "data": {
      "text/plain": [
       "30"
      ]
     },
     "execution_count": 18,
     "metadata": {},
     "output_type": "execute_result"
    }
   ],
   "source": [
    "def soaplusbias(f, bias): # sum anything\n",
    "    def h(x, y):\n",
    "        return f(x) + f(y) + bias\n",
    "    return h\n",
    "sosplusbias = soaplusbias(lambda x: x*x, 5)\n",
    "sosplusbias(3, 4) "
   ]
  },
  {
   "cell_type": "markdown",
   "metadata": {},
   "source": [
    "Notice what has happened here. In the outer function we added another argument. When we call `soaplusbias`, we define the internal function. But in this definition we now capture the calue of the bias from the execution of the outer function. Thus that value of 5 is used when we execute `sosplusbias(3, 4)`, having been captured when it was defined. This idea is called a `closure`, in the sense that this bias has been closed/captured into the definition.\n",
    "\n",
    "Its used everywhere, from defining callbacks in graphical user interfaces when responding to mouse clicks, to defining callbacks used to, for example, display the loss in deep learning systems such as `keras`. You will be writing them soon."
   ]
  },
  {
   "cell_type": "markdown",
   "metadata": {},
   "source": [
    "The paradigm of an outer function wunning to define an inner function is so common, that Python has a special syntax for it. This is the syntax of decorators."
   ]
  },
  {
   "cell_type": "code",
   "execution_count": 23,
   "metadata": {},
   "outputs": [
    {
     "name": "stdout",
     "output_type": "stream",
     "text": [
      "24\n"
     ]
    }
   ],
   "source": [
    "def check_posint(f):\n",
    "    def checker(n):\n",
    "        if n > 0:\n",
    "            return f(n)\n",
    "        elif n == 0:\n",
    "            return 1\n",
    "        else:\n",
    "            raise ValueError(\"Not a positive int\")\n",
    "    return checker\n",
    "\n",
    "@check_posint\n",
    "def factorial(n):\n",
    "    return n*factorial(n-1)\n",
    "    \n",
    "print(factorial(4)) # returns 24"
   ]
  },
  {
   "cell_type": "markdown",
   "metadata": {},
   "source": [
    "Here `check_posint` is a general function which checks an integer is positibe before passing through to function f. We **decorate** the factorial function with it, which essentially \"captures\" the function f into the `checker`. The syntax:\n",
    "\n",
    "```python\n",
    "@check_posint\n",
    "def factorial(n):\n",
    "    return n*factorial(n-1)\n",
    "```\n",
    "\n",
    "is eaquivalent to\n",
    "\n",
    "```python\n",
    "factorial = check_posint(factorial)\n",
    "```\n",
    "\n",
    "with some additional metadata changes on the functional object which are not relevant for us now. So we have replced the `factorial` function by the `checker` function, which captures the factorial function inside it and calls it when called.\n",
    "\n"
   ]
  },
  {
   "cell_type": "code",
   "execution_count": 24,
   "metadata": {},
   "outputs": [
    {
     "name": "stdout",
     "output_type": "stream",
     "text": [
      "4.99 µs ± 481 ns per loop (mean ± std. dev. of 7 runs, 100000 loops each)\n"
     ]
    }
   ],
   "source": [
    "%timeit factorial(15)"
   ]
  },
  {
   "cell_type": "markdown",
   "metadata": {},
   "source": [
    "The `%timeit` here is called a **jupyter cell magic**, and implements a timing loop for us, running 7 runs with 100000 calls, and averaging)"
   ]
  },
  {
   "cell_type": "markdown",
   "metadata": {},
   "source": [
    "## Refactoring\n",
    "\n",
    "We earlier saw closures in which we captured a variable from outside our scope. Our example had a preset bias that we put in. Let us now see how we can use state as captured in a cache to spped up our computation of `factorial`"
   ]
  },
  {
   "cell_type": "code",
   "execution_count": 26,
   "metadata": {},
   "outputs": [],
   "source": [
    "global_cache1 = {}\n",
    "def check_posint_global_cache(f):\n",
    "        def checker(n):\n",
    "            if n > 0:\n",
    "                if n in global_cache1:\n",
    "                    return global_cache1[n]\n",
    "                else:\n",
    "                    val = f(n)\n",
    "                    global_cache1[n] = val\n",
    "                    return val\n",
    "            elif n == 0:\n",
    "                return 1\n",
    "            else:\n",
    "                raise ValueError(\"Not a positive int\")\n",
    "        return checker"
   ]
  },
  {
   "cell_type": "code",
   "execution_count": 27,
   "metadata": {},
   "outputs": [],
   "source": [
    "@check_posint_global_cache\n",
    "def factorial2(n):\n",
    "    return n*factorial2(n-1)"
   ]
  },
  {
   "cell_type": "code",
   "execution_count": 28,
   "metadata": {},
   "outputs": [
    {
     "name": "stdout",
     "output_type": "stream",
     "text": [
      "228 ns ± 18.8 ns per loop (mean ± std. dev. of 7 runs, 1000000 loops each)\n"
     ]
    }
   ],
   "source": [
    "%timeit factorial2(15)"
   ]
  },
  {
   "cell_type": "markdown",
   "metadata": {},
   "source": [
    "Look at the speedup we get from using a cache! The first time we run, stuff is put into the cache, and then just obtained from there! So now even getting the factorial of a larger number, say 20, should be faster, as  we have caching upto 15."
   ]
  },
  {
   "cell_type": "code",
   "execution_count": 35,
   "metadata": {},
   "outputs": [
    {
     "name": "stdout",
     "output_type": "stream",
     "text": [
      "CPU times: user 28 µs, sys: 74 µs, total: 102 µs\n",
      "Wall time: 121 µs\n"
     ]
    },
    {
     "data": {
      "text/plain": [
       "2432902008176640000"
      ]
     },
     "execution_count": 35,
     "metadata": {},
     "output_type": "execute_result"
    }
   ],
   "source": [
    "%time factorial2(20)"
   ]
  },
  {
   "cell_type": "code",
   "execution_count": 36,
   "metadata": {},
   "outputs": [
    {
     "name": "stdout",
     "output_type": "stream",
     "text": [
      "CPU times: user 8 µs, sys: 1e+03 ns, total: 9 µs\n",
      "Wall time: 11.7 µs\n"
     ]
    },
    {
     "data": {
      "text/plain": [
       "2432902008176640000"
      ]
     },
     "execution_count": 36,
     "metadata": {},
     "output_type": "execute_result"
    }
   ],
   "source": [
    "%time factorial2(20)"
   ]
  },
  {
   "cell_type": "markdown",
   "metadata": {},
   "source": [
    "The original call is much slower...(we have used another magic called %time to run the code just once)."
   ]
  },
  {
   "cell_type": "code",
   "execution_count": 38,
   "metadata": {},
   "outputs": [
    {
     "name": "stdout",
     "output_type": "stream",
     "text": [
      "CPU times: user 65 µs, sys: 376 µs, total: 441 µs\n",
      "Wall time: 1.1 ms\n"
     ]
    },
    {
     "data": {
      "text/plain": [
       "2432902008176640000"
      ]
     },
     "execution_count": 38,
     "metadata": {},
     "output_type": "execute_result"
    }
   ],
   "source": [
    "%time factorial(20)"
   ]
  },
  {
   "cell_type": "code",
   "execution_count": 39,
   "metadata": {},
   "outputs": [
    {
     "name": "stdout",
     "output_type": "stream",
     "text": [
      "251 ns ± 9.9 ns per loop (mean ± std. dev. of 7 runs, 1000000 loops each)\n"
     ]
    }
   ],
   "source": [
    "%timeit factorial2(20)"
   ]
  },
  {
   "cell_type": "markdown",
   "metadata": {},
   "source": [
    "At this point you say but this is ugly..you are encoding globals into your function, which means you cannot use this function anywhere else.\n",
    "\n",
    "There is a price in complexity though: we must now have two wrapper functions because we need to capture the cache into a closure, while keeping the inner wrapper function looking like before."
   ]
  },
  {
   "cell_type": "code",
   "execution_count": 30,
   "metadata": {},
   "outputs": [],
   "source": [
    "def check_posint_and_cache(cache):\n",
    "    def check_posint(f):\n",
    "        def checker(n):\n",
    "            if n > 0:\n",
    "                if n in cache:\n",
    "                    return cache[n]\n",
    "                else:\n",
    "                    val = f(n)\n",
    "                    cache[n] = val\n",
    "                    return val\n",
    "            elif n == 0:\n",
    "                return 1\n",
    "            else:\n",
    "                raise ValueError(\"Not a positive int\")\n",
    "        return checker\n",
    "    return check_posint"
   ]
  },
  {
   "cell_type": "code",
   "execution_count": 31,
   "metadata": {},
   "outputs": [],
   "source": [
    "global_cache2 = {}\n",
    "def factorial3(n):\n",
    "    return n*factorial3(n-1)\n",
    "factorial3 = check_posint_and_cache(global_cache2)(factorial3)"
   ]
  },
  {
   "cell_type": "code",
   "execution_count": 32,
   "metadata": {},
   "outputs": [
    {
     "name": "stdout",
     "output_type": "stream",
     "text": [
      "193 ns ± 6.66 ns per loop (mean ± std. dev. of 7 runs, 10000000 loops each)\n"
     ]
    }
   ],
   "source": [
    "%timeit factorial3(15)"
   ]
  },
  {
   "cell_type": "markdown",
   "metadata": {},
   "source": [
    "Python provides simple syntax for this.\n",
    "This syntax will call all functions down to but not including the innermost function, which is replaced by its (now multiple called wrappers). Thus calling the decorator on a function returns a function that when called (so 2 calls happen at define time) creates a function to replace our factorial function."
   ]
  },
  {
   "cell_type": "code",
   "execution_count": 33,
   "metadata": {},
   "outputs": [],
   "source": [
    "global_cache3 = {}\n",
    "\n",
    "\n",
    "@check_posint_and_cache(global_cache3)\n",
    "def factorial4(n):\n",
    "    return n*factorial4(n-1)\n",
    "    \n"
   ]
  },
  {
   "cell_type": "code",
   "execution_count": 34,
   "metadata": {},
   "outputs": [
    {
     "name": "stdout",
     "output_type": "stream",
     "text": [
      "195 ns ± 13.6 ns per loop (mean ± std. dev. of 7 runs, 1000000 loops each)\n"
     ]
    }
   ],
   "source": [
    "%timeit factorial4(15)"
   ]
  },
  {
   "cell_type": "markdown",
   "metadata": {},
   "source": [
    "Our decorator can now be put into a library and used for multiple things! This process of developing functionality and then changing it to be more general is called refactoring, and is something you should always do after writing your initial code. We'll have more to talk about it soon."
   ]
  }
 ],
 "metadata": {
  "colab": {
   "collapsed_sections": [],
   "name": "L1 - Lec4.ipynb",
   "provenance": []
  },
  "kernelspec": {
   "display_name": "Python 3",
   "language": "python",
   "name": "python3"
  },
  "language_info": {
   "codemirror_mode": {
    "name": "ipython",
    "version": 3
   },
   "file_extension": ".py",
   "mimetype": "text/x-python",
   "name": "python",
   "nbconvert_exporter": "python",
   "pygments_lexer": "ipython3",
   "version": "3.6.8"
  }
 },
 "nbformat": 4,
 "nbformat_minor": 2
}
